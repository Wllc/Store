{
  "nbformat": 4,
  "nbformat_minor": 0,
  "metadata": {
    "colab": {
      "name": "distribuições_de_Probabilidade.ipynb",
      "provenance": [],
      "collapsed_sections": [],
      "authorship_tag": "ABX9TyNXUYKNf9V2GHyBIPs6Qgk9",
      "include_colab_link": true
    },
    "kernelspec": {
      "name": "python3",
      "display_name": "Python 3"
    },
    "language_info": {
      "name": "python"
    }
  },
  "cells": [
    {
      "cell_type": "markdown",
      "metadata": {
        "id": "view-in-github",
        "colab_type": "text"
      },
      "source": [
        "<a href=\"https://colab.research.google.com/github/Nathan-Leocadio/Stores/blob/main/distribui%C3%A7%C3%B5es_de_Probabilidade.ipynb\" target=\"_parent\"><img src=\"https://colab.research.google.com/assets/colab-badge.svg\" alt=\"Open In Colab\"/></a>"
      ]
    },
    {
      "cell_type": "markdown",
      "source": [
        "# Análise de vendas de filiais de lojas de supermercados"
      ],
      "metadata": {
        "id": "CjYmuIzTV0di"
      }
    },
    {
      "cell_type": "code",
      "source": [
        "import pandas as pd\n",
        "import numpy as np\n",
        "import matplotlib.pyplot as plt\n",
        "import seaborn as sb"
      ],
      "metadata": {
        "id": "_iziP1IoV7fe"
      },
      "execution_count": 1,
      "outputs": []
    },
    {
      "cell_type": "code",
      "source": [
        "stores = pd.read_csv('https://raw.githubusercontent.com/Nathan-Leocadio/Stores/main/Stores.csv')"
      ],
      "metadata": {
        "id": "uivJBVQzWOKO"
      },
      "execution_count": 2,
      "outputs": []
    },
    {
      "cell_type": "markdown",
      "source": [
        "# Tabela:"
      ],
      "metadata": {
        "id": "TBrF1KYZXc24"
      }
    },
    {
      "cell_type": "code",
      "source": [
        "stores.head(20)"
      ],
      "metadata": {
        "colab": {
          "base_uri": "https://localhost:8080/",
          "height": 677
        },
        "id": "Mycxzyk2Wxoh",
        "outputId": "a099c83b-e381-4014-c2e0-63c442247233"
      },
      "execution_count": 25,
      "outputs": [
        {
          "output_type": "execute_result",
          "data": {
            "text/plain": [
              "    Store ID   Store_Area  Items_Available  Daily_Customer_Count  Store_Sales\n",
              "0           1        1659             1961                   530        66490\n",
              "1           2        1461             1752                   210        39820\n",
              "2           3        1340             1609                   720        54010\n",
              "3           4        1451             1748                   620        53730\n",
              "4           5        1770             2111                   450        46620\n",
              "5           6        1442             1733                   760        45260\n",
              "6           7        1542             1858                  1030        72240\n",
              "7           8        1261             1507                  1020        37720\n",
              "8           9        1090             1321                   680        46310\n",
              "9          10        1030             1235                  1130        44150\n",
              "10         11        1187             1439                  1090        71280\n",
              "11         12        1751             2098                   720        57620\n",
              "12         13        1746             2064                  1050        60470\n",
              "13         14        1615             1931                  1160        59130\n",
              "14         15        1469             1756                   770        66360\n",
              "15         16        1644             1950                   790        78870\n",
              "16         17        1578             1907                  1440        77250\n",
              "17         18        1703             2045                   670        38170\n",
              "18         19        1438             1731                  1030        63540\n",
              "19         20        1940             2340                   980        40190"
            ],
            "text/html": [
              "\n",
              "  <div id=\"df-2ca3c3dd-e98a-4866-992b-67a13183e4c1\">\n",
              "    <div class=\"colab-df-container\">\n",
              "      <div>\n",
              "<style scoped>\n",
              "    .dataframe tbody tr th:only-of-type {\n",
              "        vertical-align: middle;\n",
              "    }\n",
              "\n",
              "    .dataframe tbody tr th {\n",
              "        vertical-align: top;\n",
              "    }\n",
              "\n",
              "    .dataframe thead th {\n",
              "        text-align: right;\n",
              "    }\n",
              "</style>\n",
              "<table border=\"1\" class=\"dataframe\">\n",
              "  <thead>\n",
              "    <tr style=\"text-align: right;\">\n",
              "      <th></th>\n",
              "      <th>Store ID</th>\n",
              "      <th>Store_Area</th>\n",
              "      <th>Items_Available</th>\n",
              "      <th>Daily_Customer_Count</th>\n",
              "      <th>Store_Sales</th>\n",
              "    </tr>\n",
              "  </thead>\n",
              "  <tbody>\n",
              "    <tr>\n",
              "      <th>0</th>\n",
              "      <td>1</td>\n",
              "      <td>1659</td>\n",
              "      <td>1961</td>\n",
              "      <td>530</td>\n",
              "      <td>66490</td>\n",
              "    </tr>\n",
              "    <tr>\n",
              "      <th>1</th>\n",
              "      <td>2</td>\n",
              "      <td>1461</td>\n",
              "      <td>1752</td>\n",
              "      <td>210</td>\n",
              "      <td>39820</td>\n",
              "    </tr>\n",
              "    <tr>\n",
              "      <th>2</th>\n",
              "      <td>3</td>\n",
              "      <td>1340</td>\n",
              "      <td>1609</td>\n",
              "      <td>720</td>\n",
              "      <td>54010</td>\n",
              "    </tr>\n",
              "    <tr>\n",
              "      <th>3</th>\n",
              "      <td>4</td>\n",
              "      <td>1451</td>\n",
              "      <td>1748</td>\n",
              "      <td>620</td>\n",
              "      <td>53730</td>\n",
              "    </tr>\n",
              "    <tr>\n",
              "      <th>4</th>\n",
              "      <td>5</td>\n",
              "      <td>1770</td>\n",
              "      <td>2111</td>\n",
              "      <td>450</td>\n",
              "      <td>46620</td>\n",
              "    </tr>\n",
              "    <tr>\n",
              "      <th>5</th>\n",
              "      <td>6</td>\n",
              "      <td>1442</td>\n",
              "      <td>1733</td>\n",
              "      <td>760</td>\n",
              "      <td>45260</td>\n",
              "    </tr>\n",
              "    <tr>\n",
              "      <th>6</th>\n",
              "      <td>7</td>\n",
              "      <td>1542</td>\n",
              "      <td>1858</td>\n",
              "      <td>1030</td>\n",
              "      <td>72240</td>\n",
              "    </tr>\n",
              "    <tr>\n",
              "      <th>7</th>\n",
              "      <td>8</td>\n",
              "      <td>1261</td>\n",
              "      <td>1507</td>\n",
              "      <td>1020</td>\n",
              "      <td>37720</td>\n",
              "    </tr>\n",
              "    <tr>\n",
              "      <th>8</th>\n",
              "      <td>9</td>\n",
              "      <td>1090</td>\n",
              "      <td>1321</td>\n",
              "      <td>680</td>\n",
              "      <td>46310</td>\n",
              "    </tr>\n",
              "    <tr>\n",
              "      <th>9</th>\n",
              "      <td>10</td>\n",
              "      <td>1030</td>\n",
              "      <td>1235</td>\n",
              "      <td>1130</td>\n",
              "      <td>44150</td>\n",
              "    </tr>\n",
              "    <tr>\n",
              "      <th>10</th>\n",
              "      <td>11</td>\n",
              "      <td>1187</td>\n",
              "      <td>1439</td>\n",
              "      <td>1090</td>\n",
              "      <td>71280</td>\n",
              "    </tr>\n",
              "    <tr>\n",
              "      <th>11</th>\n",
              "      <td>12</td>\n",
              "      <td>1751</td>\n",
              "      <td>2098</td>\n",
              "      <td>720</td>\n",
              "      <td>57620</td>\n",
              "    </tr>\n",
              "    <tr>\n",
              "      <th>12</th>\n",
              "      <td>13</td>\n",
              "      <td>1746</td>\n",
              "      <td>2064</td>\n",
              "      <td>1050</td>\n",
              "      <td>60470</td>\n",
              "    </tr>\n",
              "    <tr>\n",
              "      <th>13</th>\n",
              "      <td>14</td>\n",
              "      <td>1615</td>\n",
              "      <td>1931</td>\n",
              "      <td>1160</td>\n",
              "      <td>59130</td>\n",
              "    </tr>\n",
              "    <tr>\n",
              "      <th>14</th>\n",
              "      <td>15</td>\n",
              "      <td>1469</td>\n",
              "      <td>1756</td>\n",
              "      <td>770</td>\n",
              "      <td>66360</td>\n",
              "    </tr>\n",
              "    <tr>\n",
              "      <th>15</th>\n",
              "      <td>16</td>\n",
              "      <td>1644</td>\n",
              "      <td>1950</td>\n",
              "      <td>790</td>\n",
              "      <td>78870</td>\n",
              "    </tr>\n",
              "    <tr>\n",
              "      <th>16</th>\n",
              "      <td>17</td>\n",
              "      <td>1578</td>\n",
              "      <td>1907</td>\n",
              "      <td>1440</td>\n",
              "      <td>77250</td>\n",
              "    </tr>\n",
              "    <tr>\n",
              "      <th>17</th>\n",
              "      <td>18</td>\n",
              "      <td>1703</td>\n",
              "      <td>2045</td>\n",
              "      <td>670</td>\n",
              "      <td>38170</td>\n",
              "    </tr>\n",
              "    <tr>\n",
              "      <th>18</th>\n",
              "      <td>19</td>\n",
              "      <td>1438</td>\n",
              "      <td>1731</td>\n",
              "      <td>1030</td>\n",
              "      <td>63540</td>\n",
              "    </tr>\n",
              "    <tr>\n",
              "      <th>19</th>\n",
              "      <td>20</td>\n",
              "      <td>1940</td>\n",
              "      <td>2340</td>\n",
              "      <td>980</td>\n",
              "      <td>40190</td>\n",
              "    </tr>\n",
              "  </tbody>\n",
              "</table>\n",
              "</div>\n",
              "      <button class=\"colab-df-convert\" onclick=\"convertToInteractive('df-2ca3c3dd-e98a-4866-992b-67a13183e4c1')\"\n",
              "              title=\"Convert this dataframe to an interactive table.\"\n",
              "              style=\"display:none;\">\n",
              "        \n",
              "  <svg xmlns=\"http://www.w3.org/2000/svg\" height=\"24px\"viewBox=\"0 0 24 24\"\n",
              "       width=\"24px\">\n",
              "    <path d=\"M0 0h24v24H0V0z\" fill=\"none\"/>\n",
              "    <path d=\"M18.56 5.44l.94 2.06.94-2.06 2.06-.94-2.06-.94-.94-2.06-.94 2.06-2.06.94zm-11 1L8.5 8.5l.94-2.06 2.06-.94-2.06-.94L8.5 2.5l-.94 2.06-2.06.94zm10 10l.94 2.06.94-2.06 2.06-.94-2.06-.94-.94-2.06-.94 2.06-2.06.94z\"/><path d=\"M17.41 7.96l-1.37-1.37c-.4-.4-.92-.59-1.43-.59-.52 0-1.04.2-1.43.59L10.3 9.45l-7.72 7.72c-.78.78-.78 2.05 0 2.83L4 21.41c.39.39.9.59 1.41.59.51 0 1.02-.2 1.41-.59l7.78-7.78 2.81-2.81c.8-.78.8-2.07 0-2.86zM5.41 20L4 18.59l7.72-7.72 1.47 1.35L5.41 20z\"/>\n",
              "  </svg>\n",
              "      </button>\n",
              "      \n",
              "  <style>\n",
              "    .colab-df-container {\n",
              "      display:flex;\n",
              "      flex-wrap:wrap;\n",
              "      gap: 12px;\n",
              "    }\n",
              "\n",
              "    .colab-df-convert {\n",
              "      background-color: #E8F0FE;\n",
              "      border: none;\n",
              "      border-radius: 50%;\n",
              "      cursor: pointer;\n",
              "      display: none;\n",
              "      fill: #1967D2;\n",
              "      height: 32px;\n",
              "      padding: 0 0 0 0;\n",
              "      width: 32px;\n",
              "    }\n",
              "\n",
              "    .colab-df-convert:hover {\n",
              "      background-color: #E2EBFA;\n",
              "      box-shadow: 0px 1px 2px rgba(60, 64, 67, 0.3), 0px 1px 3px 1px rgba(60, 64, 67, 0.15);\n",
              "      fill: #174EA6;\n",
              "    }\n",
              "\n",
              "    [theme=dark] .colab-df-convert {\n",
              "      background-color: #3B4455;\n",
              "      fill: #D2E3FC;\n",
              "    }\n",
              "\n",
              "    [theme=dark] .colab-df-convert:hover {\n",
              "      background-color: #434B5C;\n",
              "      box-shadow: 0px 1px 3px 1px rgba(0, 0, 0, 0.15);\n",
              "      filter: drop-shadow(0px 1px 2px rgba(0, 0, 0, 0.3));\n",
              "      fill: #FFFFFF;\n",
              "    }\n",
              "  </style>\n",
              "\n",
              "      <script>\n",
              "        const buttonEl =\n",
              "          document.querySelector('#df-2ca3c3dd-e98a-4866-992b-67a13183e4c1 button.colab-df-convert');\n",
              "        buttonEl.style.display =\n",
              "          google.colab.kernel.accessAllowed ? 'block' : 'none';\n",
              "\n",
              "        async function convertToInteractive(key) {\n",
              "          const element = document.querySelector('#df-2ca3c3dd-e98a-4866-992b-67a13183e4c1');\n",
              "          const dataTable =\n",
              "            await google.colab.kernel.invokeFunction('convertToInteractive',\n",
              "                                                     [key], {});\n",
              "          if (!dataTable) return;\n",
              "\n",
              "          const docLinkHtml = 'Like what you see? Visit the ' +\n",
              "            '<a target=\"_blank\" href=https://colab.research.google.com/notebooks/data_table.ipynb>data table notebook</a>'\n",
              "            + ' to learn more about interactive tables.';\n",
              "          element.innerHTML = '';\n",
              "          dataTable['output_type'] = 'display_data';\n",
              "          await google.colab.output.renderOutput(dataTable, element);\n",
              "          const docLink = document.createElement('div');\n",
              "          docLink.innerHTML = docLinkHtml;\n",
              "          element.appendChild(docLink);\n",
              "        }\n",
              "      </script>\n",
              "    </div>\n",
              "  </div>\n",
              "  "
            ]
          },
          "metadata": {},
          "execution_count": 25
        }
      ]
    },
    {
      "cell_type": "markdown",
      "source": [
        "# Gráficos dos dados para Analise de Distribuições (Continuas e Discretas):"
      ],
      "metadata": {
        "id": "pTlSjrGhW5SL"
      }
    },
    {
      "cell_type": "markdown",
      "source": [
        "**Continua**:\n",
        "\n"
      ],
      "metadata": {
        "id": "tD8asvslX5ZZ"
      }
    },
    {
      "cell_type": "code",
      "source": [
        "stores['Store_Sales']"
      ],
      "metadata": {
        "colab": {
          "base_uri": "https://localhost:8080/"
        },
        "id": "oqg5C_zPrK-k",
        "outputId": "4fbbd602-9d1b-4059-8bae-338f434e4495"
      },
      "execution_count": 30,
      "outputs": [
        {
          "output_type": "execute_result",
          "data": {
            "text/plain": [
              "0      66490\n",
              "1      39820\n",
              "2      54010\n",
              "3      53730\n",
              "4      46620\n",
              "       ...  \n",
              "891    66390\n",
              "892    82080\n",
              "893    76440\n",
              "894    96610\n",
              "895    54340\n",
              "Name: Store_Sales, Length: 896, dtype: int64"
            ]
          },
          "metadata": {},
          "execution_count": 30
        }
      ]
    },
    {
      "cell_type": "code",
      "source": [
        "dado = stores['Store_Sales'].head(50)"
      ],
      "metadata": {
        "id": "nR1LjCeTrNmA"
      },
      "execution_count": 47,
      "outputs": []
    },
    {
      "cell_type": "markdown",
      "source": [
        "# Vendas em (US$) que as lojas fizeram."
      ],
      "metadata": {
        "id": "PL9FsoYjvfNz"
      }
    },
    {
      "cell_type": "code",
      "source": [
        "dado.plot(y = 'Store_Sales', kind = 'kde', figsize = (10, 10), sharey = True)"
      ],
      "metadata": {
        "colab": {
          "base_uri": "https://localhost:8080/",
          "height": 619
        },
        "id": "x9beGV-WrN55",
        "outputId": "d722b584-dfa4-4ae5-fab6-e7e15c7e37a4"
      },
      "execution_count": 48,
      "outputs": [
        {
          "output_type": "execute_result",
          "data": {
            "text/plain": [
              "<matplotlib.axes._subplots.AxesSubplot at 0x7f282949b5d0>"
            ]
          },
          "metadata": {},
          "execution_count": 48
        },
        {
          "output_type": "display_data",
          "data": {
            "text/plain": [
              "<Figure size 720x720 with 1 Axes>"
            ],
            "image/png": "[encoded data removed]"
          },
          "metadata": {
            "needs_background": "light"
          }
        }
      ]
    },
    {
      "cell_type": "markdown",
      "source": [
        "**Discreta**:\n",
        "\n"
      ],
      "metadata": {
        "id": "g6JC1qtfYBTP"
      }
    },
    {
      "cell_type": "code",
      "source": [
        "stores['Daily_Customer_Count']"
      ],
      "metadata": {
        "colab": {
          "base_uri": "https://localhost:8080/"
        },
        "id": "ezRYfZoXcQUx",
        "outputId": "bfd801d0-935f-41f2-b1cf-0ef70cf4a28a"
      },
      "execution_count": 11,
      "outputs": [
        {
          "output_type": "execute_result",
          "data": {
            "text/plain": [
              "0       530\n",
              "1       210\n",
              "2       720\n",
              "3       620\n",
              "4       450\n",
              "       ... \n",
              "891    1080\n",
              "892     850\n",
              "893    1060\n",
              "894     770\n",
              "895    1110\n",
              "Name: Daily_Customer_Count, Length: 896, dtype: int64"
            ]
          },
          "metadata": {},
          "execution_count": 11
        }
      ]
    },
    {
      "cell_type": "code",
      "source": [
        "daily = stores['Daily_Customer_Count'].head(15)"
      ],
      "metadata": {
        "id": "-xMrBEXsitCq"
      },
      "execution_count": 28,
      "outputs": []
    },
    {
      "cell_type": "markdown",
      "source": [
        "# Número de clientes que visitaram as lojas em média ao longo do mês."
      ],
      "metadata": {
        "id": "QGDp_1oxvsGX"
      }
    },
    {
      "cell_type": "code",
      "source": [
        "daily.plot(y = 'Daily_Customer_Count', kind = 'bar', figsize = (10, 10), sharey = True)"
      ],
      "metadata": {
        "colab": {
          "base_uri": "https://localhost:8080/",
          "height": 611
        },
        "id": "nlhYDZHck4Xu",
        "outputId": "8194d060-c8d4-4a0b-fe4f-bb227594013c"
      },
      "execution_count": 29,
      "outputs": [
        {
          "output_type": "execute_result",
          "data": {
            "text/plain": [
              "<matplotlib.axes._subplots.AxesSubplot at 0x7f282c5cf9d0>"
            ]
          },
          "metadata": {},
          "execution_count": 29
        },
        {
          "output_type": "display_data",
          "data": {
            "text/plain": [
              "<Figure size 720x720 with 1 Axes>"
            ],
            "image/png": "[encoded data removed]"
          },
          "metadata": {
            "needs_background": "light"
          }
        }
      ]
    }
  ]
}